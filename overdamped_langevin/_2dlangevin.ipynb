{
 "cells": [
  {
   "cell_type": "code",
   "execution_count": 57,
   "metadata": {},
   "outputs": [
    {
     "name": "stdout",
     "output_type": "stream",
     "text": [
      "done\n"
     ]
    }
   ],
   "source": [
    "import numpy as np\n",
    "from matplotlib import pyplot as plt\n",
    "#This is an example of Overdamed Langevin Dynamics on a 2-D potential \n",
    "#I will generalize this code later but for now this is a hardedcoded 2-D\n",
    "#define the double well potential in x and y\n",
    "def V(r):\n",
    "    return ((1.0-r[0]**2)**2) + r[1]**2\n",
    "#Gradient of Potential Function \n",
    "def dVdx(r) :\n",
    "    return -4*r[0]*(1-r[0]**2)\n",
    " \n",
    "def dVdy(r) :\n",
    "    return 2*r[1]\n",
    "\n",
    "#Initialize Arrays \n",
    "Gamma = np.zeros([2,2])\n",
    "r_new = np.zeros([2])\n",
    "variance = np.zeros([2,2])\n",
    "sigma = np.zeros([2,2])\n",
    "gradV = np.zeros([2])\n",
    "factor = np.zeros([2,2])\n",
    "bivar = np.zeros([2])\n",
    "\n",
    "#define parameters for trajectory \n",
    "t_start = 0.0 \n",
    "steps = 100\n",
    "dt = .1 \n",
    "\n",
    "r_start = np.array([1.,0.])\n",
    "r_store = np.empty([steps,2])\n",
    "m = 1 \n",
    "beta = 2.0 \n",
    "#Gamma is a diagonal matrix with friction coeff. \n",
    "Gamma[0,0] = 200.\n",
    "Gamma[1,1] = 200. \n",
    "\n",
    "#=============== VARIANCE =================#\n",
    "#covariance of the multivariate noise is given by\n",
    "# matrix of (2*k*T*dT)/(m*gamma[i,i]*beta)\n",
    "variance[0,0] = 2 * dt / (m*Gamma[0,0]*beta)\n",
    "variance[1,1] = 2 * dt / (m*Gamma[1,1]*beta)\n",
    "#standard deviation\n",
    "sigma = variance**.5\n",
    "\n",
    "#=============== PROPAGATION ==============#\n",
    "# r(j+1) = r(j) - (kT*dt/(m*Gamma))*(dV/dr) + rrand\n",
    "\n",
    "r = r_start\n",
    "f1 = open(\"traj.out\",\"w\")\n",
    "print >>f1, r[0], r[1], V([r[0],r[1]])\n",
    "factor[0,0] = dt / (m*Gamma[0,0])\n",
    "factor[1,1] = dt / (m*Gamma[1,1])\n",
    "\n",
    "\n",
    "for i in range(steps):\n",
    "    gradV[0] = dVdx(r)\n",
    "    gradV[1] = dVdy(r)\n",
    "    bivar = np.random.multivariate_normal([0,0],sigma)\n",
    "    rnew= r - np.dot(factor,gradV) + bivar\n",
    "    r = rnew\n",
    "    print >>f1, r[0], r[1], V([r[0],r[1]])\n",
    "    #r_store[i] = rnew\n",
    "f1.close()    \n",
    "print \"done\""
   ]
  },
  {
   "cell_type": "code",
   "execution_count": 26,
   "metadata": {},
   "outputs": [
    {
     "data": {
      "image/png": "[encoded data removed]",
      "text/plain": [
       "<Figure size 432x288 with 1 Axes>"
      ]
     },
     "metadata": {
      "needs_background": "light"
     },
     "output_type": "display_data"
    }
   ],
   "source": []
  },
  {
   "cell_type": "code",
   "execution_count": 35,
   "metadata": {},
   "outputs": [
    {
     "data": {
      "image/png": "[encoded data removed]",
      "text/plain": [
       "<Figure size 432x288 with 1 Axes>"
      ]
     },
     "metadata": {
      "needs_background": "light"
     },
     "output_type": "display_data"
    }
   ],
   "source": [
    "plt.xlim((-1.5),(1.5))\n",
    "plt.ylim((-1.5),(1.5))\n",
    "plt.plot(r_store[0],r_store[1])\n",
    "plt.show()"
   ]
  },
  {
   "cell_type": "code",
   "execution_count": null,
   "metadata": {},
   "outputs": [],
   "source": []
  }
 ],
 "metadata": {
  "kernelspec": {
   "display_name": "Python 2",
   "language": "python",
   "name": "python2"
  },
  "language_info": {
   "codemirror_mode": {
    "name": "ipython",
    "version": 2
   },
   "file_extension": ".py",
   "mimetype": "text/x-python",
   "name": "python",
   "nbconvert_exporter": "python",
   "pygments_lexer": "ipython2",
   "version": "2.7.15"
  }
 },
 "nbformat": 4,
 "nbformat_minor": 2
}
