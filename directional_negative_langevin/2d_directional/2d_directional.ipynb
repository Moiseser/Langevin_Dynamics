{
 "cells": [
  {
   "cell_type": "code",
   "execution_count": 15,
   "metadata": {},
   "outputs": [
    {
     "name": "stdout",
     "output_type": "stream",
     "text": [
      "done\n"
     ]
    }
   ],
   "source": [
    "import numpy as np\n",
    "from matplotlib import pyplot as plt\n",
    "#This is an example of Overdamed Langevin Dynamics on a 2-D potential \n",
    "#I will generalize this code later but for now this is a hardedcoded 2-D\n",
    "#define the double well potential in x and y\n",
    "def V(r):\n",
    "    return ((1.0-r[0]**2)**2) + r[1]**2\n",
    "#Gradient of Potential Function \n",
    "def dVdx(r) :\n",
    "    return -4*r[0]*(1-r[0]**2)\n",
    " \n",
    "def dVdy(r) :\n",
    "    return 2*r[1]\n",
    "\n",
    "#Initialize Arrays \n",
    "Gamma = np.zeros([2,2])\n",
    "r_new = np.zeros([2])\n",
    "variance = np.zeros([2,2])\n",
    "sigma = np.zeros([2,2])\n",
    "gradV = np.zeros([2])\n",
    "factor = np.zeros([2,2])\n",
    "bivar = np.zeros([2])\n",
    "e_0 = np.zeros([2])\n",
    "\n",
    "#define parameters for trajectory \n",
    "t_start = 0.0 \n",
    "steps = 1000\n",
    "dt = .01 \n",
    "r_start = np.array([1.,0.])\n",
    "r_store = np.empty([steps,2])\n",
    "m = 1 \n",
    "beta = 1.0 \n",
    "alpha = .000001\n",
    "#Choose the direction of your e_0 vector\n",
    "e_0[0] = .1\n",
    "e_0[1] = 0 \n",
    "\n",
    "\n",
    "#Gamma is a diagonal matrix with friction coeff. \n",
    "Gamma[0,0] = 200.\n",
    "Gamma[1,1] = 200. \n",
    "\n",
    "#=============== VARIANCE =================#\n",
    "#covariance of the multivariate noise is given by\n",
    "# matrix of (2*k*T*dT)/(m*gamma[i,i]*beta)\n",
    "variance[0,0] = 2 * dt / (m*Gamma[0,0]*beta)\n",
    "variance[1,1] = 2 * dt / (m*Gamma[1,1]*beta)\n",
    "#standard deviation\n",
    "sigma = variance**.5\n",
    "\n",
    "#=============== PROPAGATION ==============#\n",
    "# r(j+1) = r(j) - (kT*dt/(m*Gamma))*(dV/dr) + rrand + 2(r dot e)*e\n",
    "\n",
    "#Matrix of Contants to be used in propogation\n",
    "factor[0,0] = dt / (m*Gamma[0,0])\n",
    "factor[1,1] = dt / (m*Gamma[1,1])\n",
    "\n",
    "#Initial propogation to calculate velocity for use in bias simulation \n",
    "r_one = r_start\n",
    "gradV[0] = dVdx(r_one)\n",
    "gradV[1] = dVdy(r_one)\n",
    "bivar = np.random.multivariate_normal([0,0],sigma)\n",
    "r_two = r_one - np.dot(factor,gradV) + bivar \n",
    "velocity = (r_two - r_one) / dt\n",
    "r = r_two\n",
    "f1 = open(\"traj.out\",\"w\")\n",
    "print >>f1, r[0], r[1], V([r[0],r[1]])\n",
    "\n",
    "for i in range(steps):\n",
    "    gradV[0] = dVdx(r)\n",
    "    gradV[1] = dVdy(r)\n",
    "    bivar = np.random.multivariate_normal([0,0],sigma)\n",
    "    rnew= r - np.dot(factor,gradV) + bivar + (1+alpha)*np.dot(velocity,e_0)*e_0\n",
    "    velocity = (rnew - r) / dt  \n",
    "    r = rnew\n",
    "    print >>f1, r[0], r[1], V([r[0],r[1]])\n",
    "    r_store[i] = rnew\n",
    "f1.close()    \n",
    "print \"done\""
   ]
  },
  {
   "cell_type": "code",
   "execution_count": 12,
   "metadata": {},
   "outputs": [
    {
     "name": "stdout",
     "output_type": "stream",
     "text": [
      "[1. 0.]\n",
      "[1.11026015 0.09677168]\n",
      "[11.02601547  9.67716789]\n"
     ]
    }
   ],
   "source": [
    "print r_one\n",
    "print r_two\n",
    "print velocity"
   ]
  },
  {
   "cell_type": "code",
   "execution_count": null,
   "metadata": {},
   "outputs": [],
   "source": []
  }
 ],
 "metadata": {
  "kernelspec": {
   "display_name": "Python 2",
   "language": "python",
   "name": "python2"
  },
  "language_info": {
   "codemirror_mode": {
    "name": "ipython",
    "version": 2
   },
   "file_extension": ".py",
   "mimetype": "text/x-python",
   "name": "python",
   "nbconvert_exporter": "python",
   "pygments_lexer": "ipython2",
   "version": "2.7.15"
  }
 },
 "nbformat": 4,
 "nbformat_minor": 2
}
